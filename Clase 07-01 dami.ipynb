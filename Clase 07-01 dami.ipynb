{
 "cells": [
  {
   "cell_type": "code",
   "execution_count": null,
   "id": "832142bd",
   "metadata": {},
   "outputs": [],
   "source": [
    "#linea de comentarios\n",
    "\"\"\" tres comillas comentario\"\"\"\n",
    "x=5\n",
    "X=6\n",
    "\n",
    "print(X)\n",
    "print(x)\n",
    "print(x+10)\n",
    "x+X"
   ]
  },
  {
   "cell_type": "code",
   "execution_count": null,
   "id": "545485fd",
   "metadata": {},
   "outputs": [],
   "source": [
    "print(\"dami\",x,\"lumi\",X)"
   ]
  },
  {
   "cell_type": "code",
   "execution_count": null,
   "id": "e6032eaa",
   "metadata": {},
   "outputs": [],
   "source": [
    "x=20\n",
    "i=14.6\n",
    "dia=\"martes\"\n",
    "dia2=\"jueves\"\n",
    "dia3=\"domingo\""
   ]
  },
  {
   "cell_type": "code",
   "execution_count": null,
   "id": "01947d2b",
   "metadata": {},
   "outputs": [],
   "source": [
    "%whos\n",
    "#como ver los objetos en el kernel"
   ]
  },
  {
   "cell_type": "code",
   "execution_count": null,
   "id": "4fbf64eb",
   "metadata": {},
   "outputs": [],
   "source": [
    "#como eliminar un opbjeto del kernel\n",
    "del dia, dia2"
   ]
  },
  {
   "cell_type": "code",
   "execution_count": null,
   "id": "5cdbe0a5",
   "metadata": {},
   "outputs": [],
   "source": [
    "dia=\"MARTES\"\n",
    "dia.lower()"
   ]
  },
  {
   "cell_type": "code",
   "execution_count": null,
   "id": "bfdbe6e5",
   "metadata": {},
   "outputs": [],
   "source": [
    "dia.replace(\"A\",\"@\")"
   ]
  },
  {
   "cell_type": "code",
   "execution_count": null,
   "id": "6472a700",
   "metadata": {},
   "outputs": [],
   "source": [
    "#una caja de mensaje para escribir un valor, funcion input\n",
    "valor = input(\"escriba su nombre\")\n",
    "print(\"tu nombre es:\",valor)"
   ]
  },
  {
   "cell_type": "code",
   "execution_count": null,
   "id": "29abde7c",
   "metadata": {},
   "outputs": [],
   "source": [
    "#con int() puedo convertir un texto que es numero en numero entero\n",
    "#con float() pudo convertir un numero que es texto en numero decimal\n",
    "dia=\"Lunes\"\n",
    "#como ver que clase es\n",
    "type(dia)\n",
    "#cmo ver los metodos, atributos y metodos especiales__init__\n",
    "dir(dia)"
   ]
  },
  {
   "cell_type": "code",
   "execution_count": null,
   "id": "a55a059b",
   "metadata": {},
   "outputs": [],
   "source": [
    "#estructuras en python, de datos basicas, \n",
    "#listas, tuplas, diccionarios, conjuntos\n",
    "#listas coleccion de elementos ordenados y mutables (se pueden modificar despues de ser creados), \n",
    "#son hetereogeneas, pueden contener diferentes tipos de datos, la lista se asigna con corchetes, una lista vacia\n",
    "milista=[]\n",
    "lista2=[\"lunes\",\"martes\",12,\"miercoles\",True]\n",
    "lista2\n",
    "#como ver un elemento conreto de una lista, tenemo que poner entre [] el indice y termina en -1\n",
    "lista2[0]\n",
    "#como añadir elementos a una lista, 2 maneras con append con insert\n",
    "#append añade un elemento al final \n",
    "#insert en una posicion especifica\n",
    "lista2.append(\"Enero\")\n",
    "lista2.insert(0,\"Febrero\")\n",
    "lista2\n",
    "#como se ordena una lista con sort\n",
    "lista3=[15,25,3,9,64]\n",
    "lista3.sort()\n",
    "print(lista3)\n",
    "\n",
    "#como eliminar todos los elementos de la lista\n",
    "lista3.clear()\n",
    "lista3\n",
    "\n",
    "#con remove() eliminamos un elemento especifico\n",
    "lista3.remove(15)\n",
    "print(lista3) \n",
    "del lista2[4]\n",
    "print(lista2)"
   ]
  },
  {
   "cell_type": "markdown",
   "id": "1400cf56",
   "metadata": {},
   "source": [
    "PRACTICA 1: CREAR UNA LISTA QUE SE LLAME MESES, Y QUE CXONTENGA LOS MESE DE ENERO A JULIO, MENOS ABRIL, \n",
    "AÑADIREMOS AL FINAL DE LA LISTA AGOSTO, SEPTIEMBRE Y OCTUBE, INSERTAREMOS EN SU LUGAR EL MES DE ABRIL, \n",
    "AÑADIREMOS EL MES DE MAYO Y DE MARZO AL FINBAL, YDESPUES ELIMINAREMOS LOS MESES SOBRANTES PARA QUE NOS \n",
    "QUEDEN LOS MESES CORRECTOS, QUEREMOS VER LA LISTA DE MESES ORDENADO EN ORDEN ALFABETICO."
   ]
  },
  {
   "cell_type": "code",
   "execution_count": 70,
   "id": "4a401ad6",
   "metadata": {},
   "outputs": [
    {
     "data": {
      "text/plain": [
       "['ENERO', 'FEBRERO', 'MARZO', 'ABRIL', 'MAYO', 'JUNIO', 'JULIO']"
      ]
     },
     "execution_count": 70,
     "metadata": {},
     "output_type": "execute_result"
    }
   ],
   "source": [
    "MESES = [\"ENERO\", \"FEBRERO\", \"MARZO\", \"ABRIL\", \"MAYO\", \"JUNIO\", \"JULIO\"]\n",
    "MESES"
   ]
  },
  {
   "cell_type": "code",
   "execution_count": 71,
   "id": "3d0298f8",
   "metadata": {},
   "outputs": [
    {
     "name": "stdout",
     "output_type": "stream",
     "text": [
      "['ENERO', 'FEBRERO', 'MARZO', 'MAYO', 'JUNIO', 'JULIO']\n"
     ]
    }
   ],
   "source": [
    "del MESES[3]\n",
    "print(MESES)"
   ]
  },
  {
   "cell_type": "code",
   "execution_count": 72,
   "id": "3aec800d",
   "metadata": {},
   "outputs": [
    {
     "data": {
      "text/plain": [
       "['ENERO', 'FEBRERO', 'MARZO', 'MAYO', 'JUNIO', 'JULIO', 'AGOSTO']"
      ]
     },
     "execution_count": 72,
     "metadata": {},
     "output_type": "execute_result"
    }
   ],
   "source": [
    "MESES.append(\"AGOSTO\")\n",
    "MESES"
   ]
  },
  {
   "cell_type": "code",
   "execution_count": 73,
   "id": "fc77381f",
   "metadata": {},
   "outputs": [
    {
     "data": {
      "text/plain": [
       "['ENERO', 'FEBRERO', 'MARZO', 'MAYO', 'JUNIO', 'JULIO', 'AGOSTO', 'SEPTIEMBRE']"
      ]
     },
     "execution_count": 73,
     "metadata": {},
     "output_type": "execute_result"
    }
   ],
   "source": [
    "MESES.append(\"SEPTIEMBRE\")\n",
    "MESES"
   ]
  },
  {
   "cell_type": "code",
   "execution_count": 74,
   "id": "9651f728",
   "metadata": {},
   "outputs": [
    {
     "data": {
      "text/plain": [
       "['ENERO',\n",
       " 'FEBRERO',\n",
       " 'MARZO',\n",
       " 'MAYO',\n",
       " 'JUNIO',\n",
       " 'JULIO',\n",
       " 'AGOSTO',\n",
       " 'SEPTIEMBRE',\n",
       " 'OCTUBRE']"
      ]
     },
     "execution_count": 74,
     "metadata": {},
     "output_type": "execute_result"
    }
   ],
   "source": [
    "MESES.append(\"OCTUBRE\")\n",
    "MESES"
   ]
  },
  {
   "cell_type": "code",
   "execution_count": 75,
   "id": "a2275b0e",
   "metadata": {},
   "outputs": [
    {
     "data": {
      "text/plain": [
       "['ENERO',\n",
       " 'FEBRERO',\n",
       " 'MARZO',\n",
       " 'ABRIL',\n",
       " 'MAYO',\n",
       " 'JUNIO',\n",
       " 'JULIO',\n",
       " 'AGOSTO',\n",
       " 'SEPTIEMBRE',\n",
       " 'OCTUBRE']"
      ]
     },
     "execution_count": 75,
     "metadata": {},
     "output_type": "execute_result"
    }
   ],
   "source": [
    "MESES.insert(3,\"ABRIL\")\n",
    "MESES"
   ]
  },
  {
   "cell_type": "code",
   "execution_count": 76,
   "id": "dfbb7163",
   "metadata": {},
   "outputs": [
    {
     "data": {
      "text/plain": [
       "['ENERO',\n",
       " 'FEBRERO',\n",
       " 'MARZO',\n",
       " 'ABRIL',\n",
       " 'MAYO',\n",
       " 'JUNIO',\n",
       " 'JULIO',\n",
       " 'AGOSTO',\n",
       " 'SEPTIEMBRE',\n",
       " 'OCTUBRE',\n",
       " 'MAYO',\n",
       " 'MARZO']"
      ]
     },
     "execution_count": 76,
     "metadata": {},
     "output_type": "execute_result"
    }
   ],
   "source": [
    "MESES.append(\"MAYO\")\n",
    "MESES\n",
    "MESES.append(\"MARZO\")\n",
    "MESES"
   ]
  },
  {
   "cell_type": "code",
   "execution_count": 77,
   "id": "0cef3438",
   "metadata": {},
   "outputs": [
    {
     "data": {
      "text/plain": [
       "['ENERO',\n",
       " 'FEBRERO',\n",
       " 'MARZO',\n",
       " 'ABRIL',\n",
       " 'MAYO',\n",
       " 'JUNIO',\n",
       " 'JULIO',\n",
       " 'AGOSTO',\n",
       " 'SEPTIEMBRE',\n",
       " 'OCTUBRE',\n",
       " 'MARZO']"
      ]
     },
     "execution_count": 77,
     "metadata": {},
     "output_type": "execute_result"
    }
   ],
   "source": [
    "del MESES [10]\n",
    "MESES"
   ]
  },
  {
   "cell_type": "code",
   "execution_count": 78,
   "id": "1ac5be37",
   "metadata": {},
   "outputs": [
    {
     "data": {
      "text/plain": [
       "['ENERO',\n",
       " 'FEBRERO',\n",
       " 'MARZO',\n",
       " 'ABRIL',\n",
       " 'MAYO',\n",
       " 'JUNIO',\n",
       " 'JULIO',\n",
       " 'AGOSTO',\n",
       " 'SEPTIEMBRE',\n",
       " 'OCTUBRE']"
      ]
     },
     "execution_count": 78,
     "metadata": {},
     "output_type": "execute_result"
    }
   ],
   "source": [
    "del MESES [10]\n",
    "MESES"
   ]
  },
  {
   "cell_type": "code",
   "execution_count": 83,
   "id": "8e143975",
   "metadata": {},
   "outputs": [
    {
     "name": "stdout",
     "output_type": "stream",
     "text": [
      "['ABRIL', 'AGOSTO', 'ENERO', 'FEBRERO', 'JULIO', 'JUNIO', 'MARZO', 'MAYO', 'OCTUBRE', 'SEPTIEMBRE']\n"
     ]
    },
    {
     "data": {
      "text/plain": [
       "10"
      ]
     },
     "execution_count": 83,
     "metadata": {},
     "output_type": "execute_result"
    }
   ],
   "source": [
    "MESES_ORDENADOS = MESES\n",
    "MESES_ORDENADOS.sort()\n",
    "print(MESES_ORDENADOS)\n",
    "len(MESES)"
   ]
  },
  {
   "cell_type": "code",
   "execution_count": 99,
   "id": "b7a30509",
   "metadata": {},
   "outputs": [
    {
     "name": "stdout",
     "output_type": "stream",
     "text": [
      "el valor mayor de 10\n",
      "terminado\n",
      "entre 0 y <20\n"
     ]
    }
   ],
   "source": [
    "#estructuras de control , el condicional if, el if analiza una condicion o prueba logica y si \n",
    "#se cumnple ejecuta una parte verdadera, o prueba logica, comparar valores mediante los operadores de comparacion\n",
    "#> mayor que\n",
    "#< Menor que\n",
    "#>= Mayor o igual que\n",
    "#<= Menor o igual que\n",
    "#== Igual que\n",
    "#!= distinto de\n",
    "\n",
    "#las estructuras de control tiene : e identacion en las lineas siguientes\n",
    "i = 15\n",
    "if i>10:\n",
    "    print(\"el valor mayor de 10\")\n",
    "else:\n",
    "    print(\"el valor es menor o igual a 10\")\n",
    "print(\"terminado\")\n",
    "\n",
    "#si necesito mas opciones de devolucion usaremos elif\n",
    "\n",
    "i:35\n",
    "if i<20:\n",
    "    print(\"entre 0 y <20\")\n",
    "    \n",
    "elif i<40:\n",
    "    print(\"entre 20 y <40\")\n",
    "\n",
    "else:\n",
    "    print(\"mayor o = 40\")\n",
    "\n"
   ]
  },
  {
   "cell_type": "markdown",
   "id": "7031cf4f",
   "metadata": {},
   "source": [
    "PRACTICA2: MEDIANTE UNA ESTRUCTURA IF ... ELSE, MOSTRAR UN MENSAJE QUE PONGA EN NUMERO ENTERO X\n",
    "ES MAS GRANDE DE 20 O EL NUMERO X NO ES MAS GRANDE DE 20, SI EL VALOR DE X LO ASIGNAMOS\n",
    "MEDIANTE UN INPUT BOX\n",
    "\n",
    "PRACTICA3: MEDIANTE UNA ESTRUCTURA IF ... ELSE, MOSTRAR UN MENSAJE QUE PONGA EN NUMERO DECIMAL X\n",
    "ES MAS GRANDE DE 20 O EL NUMERO X NO ES MAS GRANDE DE 20, SI EL VALOR DE X LO ASIGNAMOS\n",
    "MEDIANTE UN INPUT BOX\n",
    "\n",
    "PRACTICA4: MEDIANTE UNA ESTRUCTURA IF ... ELSE. CALIFICAR UN NUMERO ENTERO OBTENIDOO POR INPUTBOX\n",
    "QUE NOS LO CLASIFIQUE POR MULTIPLOS 25, \"EL 37 ESTA COMPRENDIDO ENTRE 25-50\", EMPEZANDO POR\n",
    "EL 0 Y TERMINANDO POR EL 100, FUERA DE ESE RANGO MOSTRAR UN MENSAJE \"NUMERO NO VALIDO\""
   ]
  },
  {
   "cell_type": "code",
   "execution_count": null,
   "id": "962bdbf0",
   "metadata": {},
   "outputs": [
    {
     "name": "stdout",
     "output_type": "stream",
     "text": [
      "X ES MAS GRANDE DE 20\n",
      "X ES MAS GRANDE DE 20\n"
     ]
    }
   ],
   "source": [
    "x=input(\"numero entero\")\n",
    "\n",
    "if int(x)>20:\n",
    "    print(\"X ES MAS GRANDE DE 20\")\n",
    "else:\n",
    "    print(\"X NO ES MAS GRANDE DE 20\")\n",
    " \n",
    "\n",
    "x=input(\"nuemro decimal\")\n",
    "\n",
    "if float(x)>20:\n",
    "    print(\"EL NUEMRO\",x \"ES MAS GRANDE DE 20\")\n",
    "else:\n",
    "    print(\"EL NUMERO\",x, \"NO ES MAS GRANDE DE 20\")\n"
   ]
  },
  {
   "cell_type": "code",
   "execution_count": 126,
   "id": "e26979cd",
   "metadata": {},
   "outputs": [
    {
     "name": "stdout",
     "output_type": "stream",
     "text": [
      "Numero entre 0-25\n"
     ]
    }
   ],
   "source": [
    "#PRACTICA 4\n",
    "x = int(input(\"Ponga un numero entero\"))\n",
    "if x<0:\n",
    "        print(\"Numero no valido\")\n",
    "elif x<=25:\n",
    "        print (\"Numero entre 0-25\")\n",
    "elif x<=50:\n",
    "        print(\"Numero entre >25-50\")\n",
    "elif x<=75:\n",
    "        print(\"Numero entre >50-75\")\n",
    "elif x<=100:\n",
    "        print(\"Numero entre >75-100\")\n",
    "else:\n",
    "        print(\"Numero no valido\")\n",
    "\n",
    "\n",
    "\n"
   ]
  },
  {
   "cell_type": "code",
   "execution_count": 130,
   "id": "8632477b",
   "metadata": {},
   "outputs": [
    {
     "name": "stdout",
     "output_type": "stream",
     "text": [
      "Todos los numeros entre 0-50\n",
      "Todos los numeros entre 0-50\n"
     ]
    }
   ],
   "source": [
    "#comparar 2 valores con la variable\n",
    "x = 35\n",
    "\n",
    "if 0<=x<=50:\n",
    "    print(\"Todos los numeros entre 0-50\")\n",
    "\n",
    "if x>=0 and x<=50:\n",
    "    print(\"Todos los numeros entre 0-50\")\n"
   ]
  },
  {
   "cell_type": "code",
   "execution_count": null,
   "id": "f7e603a8",
   "metadata": {},
   "outputs": [
    {
     "name": "stdout",
     "output_type": "stream",
     "text": [
      "Vale 1\n"
     ]
    }
   ],
   "source": [
    "#la estructura match\n",
    "x = 1\n",
    "match x:\n",
    "    case 1:\n",
    "        print(\"Vale 1\")\n",
    "    case 5:\n",
    "        print(\"Vale 5\")\n",
    "    case default:\n",
    "        print(\"Ninguno cumple\")"
   ]
  },
  {
   "cell_type": "markdown",
   "id": "14f8ef92",
   "metadata": {},
   "source": [
    "PRACTICA 5: MEDIANTE UNA CAJA INPUT + MATCH ... CASE DEVOLVER EL DIA DE LA SEMANA EN LETRAS\n",
    "EN FUNCION DEL NUMERO OBTENIO, DEL 1 AL 7"
   ]
  },
  {
   "cell_type": "code",
   "execution_count": 10,
   "id": "4cce3c88",
   "metadata": {},
   "outputs": [
    {
     "name": "stdout",
     "output_type": "stream",
     "text": [
      "Viernes\n"
     ]
    }
   ],
   "source": [
    "x = int(input(\"Ponga un numero del 1-7\"))\n",
    "match x:\n",
    "    case 1:\n",
    "        print(\"Lunes\")\n",
    "    case 2:\n",
    "        print(\"Martes\")\n",
    "    case 3:\n",
    "        print(\"Miercoles\")\n",
    "    case 4:\n",
    "        print(\"Jueves\")\n",
    "    case 5:\n",
    "        print(\"Viernes\")\n",
    "    case 6:\n",
    "        print(\"Sabado\")\n",
    "    case 7:\n",
    "        print(\"Domingo\")\n",
    "    case default:\n",
    "        print(\"Ninguno cumple\")\n"
   ]
  },
  {
   "cell_type": "code",
   "execution_count": 12,
   "id": "34162031",
   "metadata": {},
   "outputs": [
    {
     "name": "stdout",
     "output_type": "stream",
     "text": [
      "el numero es 1\n",
      "el numero es 2\n",
      "el numero es 3\n",
      "el numero es 4\n",
      "el numero es 5\n",
      "el numero de iteraciones han sido 5\n"
     ]
    }
   ],
   "source": [
    "#el bucle en python, un bucle es un codigo que se repite hasta que se cumple una condicion dada, \n",
    "#dos tipos de bucles, finitos (los que terminan si osi) y los infinitos, puede que termine o no, \n",
    "#los bucles seran finitos por que conocemos de antemano cuantas veces se repetiran, cada vez que \n",
    "#se ejecuta el codigo es una ITERACION, los bucles finitos siemrpe llevan asociada una variable \n",
    "iter = 0\n",
    "for i in [1,2,3,4,5]:\n",
    "    print(\"el numero es\",i)\n",
    "    iter = iter + 1\n",
    "    #tambien se puede hacer asi inter+=1\n",
    "print(\"el numero de iteraciones han sido\", iter)"
   ]
  }
 ],
 "metadata": {
  "kernelspec": {
   "display_name": "Python 3",
   "language": "python",
   "name": "python3"
  },
  "language_info": {
   "codemirror_mode": {
    "name": "ipython",
    "version": 3
   },
   "file_extension": ".py",
   "mimetype": "text/x-python",
   "name": "python",
   "nbconvert_exporter": "python",
   "pygments_lexer": "ipython3",
   "version": "3.13.0"
  }
 },
 "nbformat": 4,
 "nbformat_minor": 5
}
