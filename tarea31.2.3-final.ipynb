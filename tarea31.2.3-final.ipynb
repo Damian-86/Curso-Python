{
 "cells": [
  {
   "cell_type": "code",
   "execution_count": null,
   "id": "d8a9d3f2",
   "metadata": {},
   "outputs": [],
   "source": [
    "#Practica 30\n",
    "import pandas as pd\n",
    "agosto2014 = pd.read_excel(r\"C:\\Users\\Dami\\Documents\\Mis Documentos\\IT ACADEMY\\Ciencia de datos con Python\\Clases\\VentasGroucery_Meses.xlsx\", \n",
    "                           sheet_name=\"Ventas Agosto 2014\")\n",
    "septiembre2014 = pd.read_excel(r\"C:\\Users\\Dami\\Documents\\Mis Documentos\\IT ACADEMY\\Ciencia de datos con Python\\Clases\\VentasGroucery_Meses.xlsx\", \n",
    "                           sheet_name=\"Ventas Septiembre 2014\")\n",
    "octubre2014 = pd.read_excel(r\"C:\\Users\\Dami\\Documents\\Mis Documentos\\IT ACADEMY\\Ciencia de datos con Python\\Clases\\VentasGroucery_Meses.xlsx\", \n",
    "                           sheet_name=\"Ventas Octubre 2014\")\n",
    "#concatenar\n",
    "trimestre = pd.concat([agosto2014,septiembre2014,octubre2014],ignore_index=True)\n",
    "#filtrar las unidades mayores de 10\n",
    "filtro = trimestre['Quantity']>10\n",
    "trimestre = trimestre[filtro]\n",
    "#Calcular Amount\n",
    "trimestre['Amount'] = trimestre['Unit Price']*trimestre['Quantity']\n",
    "#Un objeto que almacene la agrupación\n",
    "resultado = round(trimestre.groupby(['Ship Country','Category']).Amount.sum(),2)\n",
    "resultado = pd.DataFrame(resultado).reset_index()\n",
    "#Guardar directo\n",
    "resultado.to_excel(r\"C:\\Users\\Dami\\Documents\\Mis Documentos\\IT ACADEMY\\Ciencia de datos con Python\\Clases\\Practica30.xlsx\",sheet_name=\"Trimestre 2014\", header=True,index=True)\n",
    "print(\"Succesfully\")"
   ]
  },
  {
   "cell_type": "code",
   "execution_count": null,
   "id": "adc231b6",
   "metadata": {},
   "outputs": [],
   "source": [
    "import pandas as pd\n",
    "pedidos = pd.read_excel(r\"C:\\Users\\Dami\\Documents\\Mis Documentos\\IT ACADEMY\\Ciencia de datos con Python\\Clases\\Pedidos.xlsx\", sheet_name=\"Pedidos\")\n",
    "pedidos\n"
   ]
  },
  {
   "cell_type": "code",
   "execution_count": null,
   "id": "7d65a6e0",
   "metadata": {},
   "outputs": [],
   "source": [
    "\n",
    "detallespedidos = pd.read_excel(r\"C:\\Users\\Dami\\Documents\\Mis Documentos\\IT ACADEMY\\Ciencia de datos con Python\\Clases\\Detalles Pedidos.xlsx\",\n",
    "                                sheet_name=\"Detalles Pedidos\")\n",
    "detallespedidos\n",
    "#combinar dos dataframes, mediante merch. Necesitamos tener un campo en comun, no tienen q llamarse igual\n",
    "merge_pedidos = pd.merge(pedidos,detallespedidos, on=\"Id. de pedido\", how=\"inner\")\n",
    "merge_pedidos\n",
    "#si no se llaman igual, left_on + right_on\n",
    "#merge_pedidos = pd.merge(pedidos,detallespedidos, left_on=on=\"Id de pedido\",right_on=\"pedido Id\")\n",
    "#el tema del join, por defecto es inner"
   ]
  },
  {
   "cell_type": "markdown",
   "id": "beb32ee5",
   "metadata": {},
   "source": [
    "PRACTICA 31: CARGAREMOS Y COMBIONAREMOS LOS SIG FICHEROS DE EXCEL\n",
    "-Pedidos.xlsx\n",
    "-Detalles Pedidos.xlsx\n",
    "-Productos.xlsx\n",
    "-Categorias.xlsx\n",
    "-Comerciales.xlsx\n",
    "\n",
    "31.1: REALIZAREMOS LAS TRANSFORMACIONES PARA GUARDAR EN UN FICHERO DE EXCEL UN CONJUNTO DE DATOS QUE CONTENGA EL NOMBRE DE LA CATEGORIA, \n",
    "AGRUPADA POR LA SUMA DE IMPORTE (IMPORTE = PRECIO UNIDAD*CANTIDAD), NUMERO DE PEDIDOS, PROMEDIO DE CANTIDAD\n",
    "\n",
    "31.2: REALIZAREMOS LAS TRANSFORMACIONES PARA GUARDAR EN UN FICHERO DE EXCEL UN CONJUNTO\n",
    "DE DATOS QUE CONTENGA EL NOMBRE DEL COMERCIAL, AGRUPADA POR NUMERO DE PEDIDOS\n",
    "\n",
    "31.3: REALIZAREMOS LAS TRANSFORMACIONES PARA GUARDAR ENM UN FICHERO DE EXCEL UN CONJUNTO DE DATOS QUE CONTENGA EL NOMBRE DEL MES EN LETRAS\n",
    "DE LA FECHA DE PEDIDOS, AGRUPADA POR SUMA DE IMPORTE\n"
   ]
  },
  {
   "cell_type": "code",
   "execution_count": null,
   "id": "3ee738e1",
   "metadata": {},
   "outputs": [],
   "source": [
    "#PRACTICA 31:\n",
    "import pandas as pd\n",
    "productos = pd.read_excel(r\"C:\\Users\\Dami\\Documents\\Mis Documentos\\IT ACADEMY\\Ciencia de datos con Python\\Clases\\Productos.xlsx\",sheet_name=\"Productos\")\n",
    "productos"
   ]
  },
  {
   "cell_type": "code",
   "execution_count": null,
   "id": "55fd963e",
   "metadata": {},
   "outputs": [],
   "source": [
    "categorias = pd.read_excel(r\"C:\\Users\\Dami\\Documents\\Mis Documentos\\IT ACADEMY\\Ciencia de datos con Python\\Clases\\Categorías.xlsx\", sheet_name=\"Categorías\")\n",
    "categorias"
   ]
  },
  {
   "cell_type": "code",
   "execution_count": null,
   "id": "0cafe363",
   "metadata": {},
   "outputs": [],
   "source": [
    "comerciales = pd.read_excel(r\"C:\\Users\\Dami\\Documents\\Mis Documentos\\IT ACADEMY\\Ciencia de datos con Python\\Clases\\Comerciales.xlsx\", sheet_name=\"Comerciales\")\n",
    "comerciales"
   ]
  },
  {
   "cell_type": "code",
   "execution_count": null,
   "id": "8491701a",
   "metadata": {},
   "outputs": [],
   "source": [
    "pedidos_productos = pd.merge(merge_pedidos, productos, left_on=\"Producto\", right_on=\"Nombre de producto\")\n",
    "pedidos_productos"
   ]
  },
  {
   "cell_type": "code",
   "execution_count": null,
   "id": "ffe4dd54",
   "metadata": {},
   "outputs": [],
   "source": [
    "pedidos_productos_categorias = pd.merge(pedidos_productos, categorias, left_on=\"Categoría\", right_on=\"Nombre de categoría\")\n",
    "pedidos_productos_categorias"
   ]
  },
  {
   "cell_type": "code",
   "execution_count": null,
   "id": "cfab7738",
   "metadata": {},
   "outputs": [],
   "source": [
    "ficheros_combinados = pd.merge(pedidos_productos_categorias, comerciales, on=\"Id. de Comercial\")\n",
    "ficheros_combinados.info()\n"
   ]
  },
  {
   "cell_type": "code",
   "execution_count": null,
   "id": "a69515ab",
   "metadata": {},
   "outputs": [],
   "source": [
    "#PRACTICA 31.1:\n",
    "ficheros_combinados['Importe'] = ficheros_combinados['Precio por unidad']*ficheros_combinados['Cantidad']\n",
    "ficheros_combinados\n",
    "\n"
   ]
  },
  {
   "cell_type": "code",
   "execution_count": null,
   "id": "48d3bf2f",
   "metadata": {},
   "outputs": [],
   "source": [
    "importe_categoria = round(ficheros_combinados.groupby(['Categoría']).Importe.sum(),2)\n",
    "importe_categoria = pd.DataFrame(importe_categoria).reset_index()\n",
    "importe_categoria"
   ]
  },
  {
   "cell_type": "code",
   "execution_count": null,
   "id": "eec2621f",
   "metadata": {},
   "outputs": [],
   "source": [
    "pedidos_categoria = round(ficheros_combinados.groupby(['Categoría'])['Id. de pedido'].count(),2)\n",
    "pedidos_categoria = pd.DataFrame(pedidos_categoria).reset_index()\n",
    "pedidos_categoria"
   ]
  },
  {
   "cell_type": "code",
   "execution_count": null,
   "id": "ffe92d58",
   "metadata": {},
   "outputs": [],
   "source": [
    "promedio_categoria = round(ficheros_combinados.groupby(['Categoría']).Cantidad.mean(),2)\n",
    "pedidos_categoria = pd.DataFrame(pedidos_categoria).reset_index()\n",
    "pedidos_categoria"
   ]
  },
  {
   "cell_type": "code",
   "execution_count": null,
   "id": "26fd0074",
   "metadata": {},
   "outputs": [],
   "source": [
    "agrupado = pd.merge(importe_categoria, pedidos_categoria, on='Categoría')\n",
    "agrupado = pd.merge(agrupado,promedio_categoria, on=\"Categoría\")\n",
    "print(agrupado)\n",
    "\n",
    "agrupado.to_excel(r\"C:\\Users\\Dami\\Documents\\Mis Documentos\\IT ACADEMY\\Ciencia de datos con Python\\Clases\\Combinado.xlsx\",sheet_name=\"Categorias\",header=True, index=False)\n",
    "print(\"Terminado\")\n"
   ]
  },
  {
   "cell_type": "code",
   "execution_count": null,
   "id": "d8e8af9d",
   "metadata": {},
   "outputs": [],
   "source": [
    "#PRACTICA 31.2 REALIZAREMOS LAS TRANSFORMACIONES PARA GUARDAR EN UN FICHERO DE EXCEL UN CONJUNTO \n",
    "#DE DATOS QUE CONTENGA EL NOMBRE DEL COMERCIAL, AGRUPADA POR NUMERO DE PEDIDOS\n",
    "\n",
    "comercial_pedidos = round(ficheros_combinados.groupby(['Proveedor'])['Id. de pedido'].count(),2)\n",
    "comercial_pedidos = pd.DataFrame(comercial_pedidos).reset_index()\n",
    "comercial_pedidos\n",
    "\n",
    "comercial_pedidos.to_excel(r\"C:\\Users\\Dami\\Documents\\Mis Documentos\\IT ACADEMY\\Ciencia de datos con Python\\Clases\\Comercial_pedidos.xlsx\",sheet_name=\"Numero de pedidos\",header=True, index=False)\n",
    "print(\"Terminado\")\n"
   ]
  },
  {
   "cell_type": "code",
   "execution_count": null,
   "id": "4216bc06",
   "metadata": {},
   "outputs": [],
   "source": [
    "#31.3: REALIZAREMOS LAS TRANSFORMACIONES PARA GUARDAR EN UN FICHERO DE EXCEL UN CONJUNTO DE DATOS QUE CONTENGA EL NOMBRE DEL MES EN LETRAS\n",
    "#DE LA FECHA DE PEDIDOS, AGRUPADA POR SUMA DE IMPORTE\n",
    "\n",
    "# el accesor de dataframe, el accesor es acceder a un grupo de metodos, mediante un punto \n",
    "ficheros_combinados['Apellidos'].str.replace('a','@')"
   ]
  },
  {
   "cell_type": "code",
   "execution_count": null,
   "id": "d1548cf5",
   "metadata": {},
   "outputs": [],
   "source": [
    "#el accesor de datetime es el dt, el mes en letras\n",
    "ficheros_combinados['Fecha de pedido'].dt.strftime('%B')"
   ]
  },
  {
   "cell_type": "code",
   "execution_count": null,
   "id": "15f3b292",
   "metadata": {},
   "outputs": [],
   "source": [
    "conjunto_fecha_importe = round(ficheros_combinados.groupby([ficheros_combinados['Fecha de pedido'].dt.strftime('%B')])['Importe'].sum(),2).reset_index()\n",
    "conjunto_fecha_importe.to_excel(r\"C:\\Users\\Dami\\Documents\\Mis Documentos\\IT ACADEMY\\Ciencia de datos con Python\\Clases\\Fecha_Importe.xlsx\",sheet_name=\"Conjunto Fecha Importe\",header=True, index=False)\n",
    "print(conjunto_fecha_importe,\"Terminado\")"
   ]
  },
  {
   "cell_type": "code",
   "execution_count": null,
   "id": "f5242a30",
   "metadata": {},
   "outputs": [],
   "source": []
  }
 ],
 "metadata": {
  "kernelspec": {
   "display_name": "Python 3",
   "language": "python",
   "name": "python3"
  },
  "language_info": {
   "codemirror_mode": {
    "name": "ipython",
    "version": 3
   },
   "file_extension": ".py",
   "mimetype": "text/x-python",
   "name": "python",
   "nbconvert_exporter": "python",
   "pygments_lexer": "ipython3",
   "version": "3.13.5"
  }
 },
 "nbformat": 4,
 "nbformat_minor": 5
}
